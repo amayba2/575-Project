{
 "cells": [
  {
   "cell_type": "markdown",
   "metadata": {},
   "source": [
    "#575 Project \n",
    "##Michael Fergus & Andrew Maybach\n",
    "\n",
    "##CPS Probation Analysis\n",
    "\n",
    "In the following report  data from the Chicago Public Schools website (https://cps.edu/SchoolData/Pages/SchoolData.aspx) is used to model School Probation status based on School Performance and Demographic Metrics. The data being used is from the year 2013 and includes reports on Racial and Ethnic Identity, Bilingual, Special Education, Reduced or Free lunch, and perfomance metrics for 683 CPS Schools. Below are the steps taken for analysis and insights gained. "
   ]
  },
  {
   "cell_type": "code",
   "execution_count": 175,
   "metadata": {},
   "outputs": [],
   "source": [
    "import pandas as pd\n",
    "import numpy as np\n",
    "import random\n",
    "import matplotlib.pyplot as plt\n",
    "\n",
    "from sklearn.model_selection import cross_val_score\n",
    "from sklearn.ensemble import RandomForestClassifier\n",
    "from sklearn.linear_model import LogisticRegression\n",
    "\n",
    "%matplotlib inline"
   ]
  },
  {
   "cell_type": "markdown",
   "metadata": {},
   "source": [
    "Above we are importing the packages that we will need to run our analysis."
   ]
  },
  {
   "cell_type": "code",
   "execution_count": 176,
   "metadata": {},
   "outputs": [],
   "source": [
    "#setting seed\n",
    "random.seed(123)"
   ]
  },
  {
   "cell_type": "markdown",
   "metadata": {},
   "source": [
    "In the above cell we are setting our random seed for reproducability "
   ]
  },
  {
   "cell_type": "code",
   "execution_count": 177,
   "metadata": {},
   "outputs": [],
   "source": [
    "#Importing data - gathered from CPS website\n",
    "lepsped = pd.read_excel('lep_iep_frl_report_2013.xls', sheetname='All Schools',skiprows = [0,1],\n",
    "                        names = [\"School_ID\",\"Networks\",\"School_Name\",\"Total\", \"Bilingual_No\",\n",
    "                                 \"Bilingual_Percent\",\"SPED_No\",\"SPED_Percent\",\"Reduced_Lunch_No\",\n",
    "                                 \"Reduced_Lunch_Percent\"])\n",
    "\n",
    "\n",
    "racial_ethnic= pd.read_excel('FY13_Racial_Ethnic_Survey.xls', sheetname='All Schools', skiprows= [0,1],\n",
    "                            names=[\"Network\",\"School_ID\",\"School_Name\",\"Total\",\"White_No\",\"White_Percent\",\n",
    "                                   \"African_American_No\",\"African_American_Percent\",\"Asian_American_Pascific_Islander_No\",\n",
    "                                   \"Asian_American_Pascific_Islander_Percent\",\"Native_American_Alaskan_No\",\n",
    "                                   \"Native_American_Alaskan_Percent\",\"Hispanic_No\",\"Hispanic_Percent\",\"Multi_Racial_No\",\n",
    "                                   \"Multi_Racial_Percent\",\"Asian_No\",\"Asian_Percent\", \"Hawaiian_Pacific_Islander_No\",\n",
    "                                   \"Hawaiian_Pacific_Islander_Percent\",\"Not_Available_No\",\"Not_Available_Percent\"] )\n",
    "\n",
    "perf_elem = pd.read_excel(\"2013_PerformancePolicy_Results_03262014.xls\", sheetname= \"Elem 2013\", skiprows = [0])\n",
    "\n",
    "perf_high = pd.read_excel(\"2013_PerformancePolicy_Results_03262014.xls\", sheetname= \"High 2013\", skiprows=[0])"
   ]
  },
  {
   "cell_type": "markdown",
   "metadata": {},
   "source": [
    "Above we are importing our data; the first file contains data about each schools Special Education, Reduced Lunch, and Bilingual speakers. The second has Racial/Ethnic data for the schools. The last two files are performance data for elementary and highschool respectively. "
   ]
  },
  {
   "cell_type": "code",
   "execution_count": 178,
   "metadata": {},
   "outputs": [],
   "source": [
    "#rename scho0l id to match\n",
    "perf_elem.rename(columns= {\"School ID\":\"School_ID\"},inplace = True)\n",
    "perf_high.rename(columns= {\"School ID\":\"School_ID\"},inplace = True)                                \n",
    "                               "
   ]
  },
  {
   "cell_type": "markdown",
   "metadata": {},
   "source": [
    "The above cell renames the school ID columns in both of the performance data sets. This is important when joining the data later on. "
   ]
  },
  {
   "cell_type": "code",
   "execution_count": 179,
   "metadata": {},
   "outputs": [],
   "source": [
    "#Y value  encoding &  Previous Year Level encoding - encoding Probation Status and 2012-2013 level to numerics\n",
    "\n",
    "#Elementary Y value\n",
    "perf_elem[\"2013-2014 Probation Status\"] = perf_elem[\"2013-2014 Probation Status\"].map({\"Not on Probation\":0,\"Probation\":1, \"Not Applicable\":2})\n",
    "#changing probation status data type to numeric\n",
    "perf_elem[\"2013-2014 Probation Status\"] = pd.to_numeric(perf_elem[\"2013-2014 Probation Status\"])\n",
    "\n",
    "#Highschool Y value\n",
    "perf_high[\"2013-2014 Probation\"] = perf_high[\"2013-2014 Probation\"].map({\"Not on Probation\":0,\"Probation\":1, \"Not Applicable\":2})\n",
    "\n",
    "#changing probation status data type to numeric\n",
    "perf_high[\"2013-2014 Probation\"] = pd.to_numeric(perf_high[\"2013-2014 Probation\"])\n",
    "\n",
    "#Previous year level encoding for elementary\n",
    "perf_elem[\"2012-2013 Level\"] = perf_elem[\"2012-2013 Level\"].map({\"Level 1\":1,\"Level 2\":2, \"Level 3\":3, \"Not Enough Data\":4})\n",
    "\n",
    "#changing Previous year level data type to numeric\n",
    "perf_elem[\"2012-2013 Level\"] = pd.to_numeric(perf_elem[\"2012-2013 Level\"])\n",
    "\n",
    "#Previous year level encoding for highschool\n",
    "perf_high[\"2012-2013 Level\"] = perf_high[\"2012-2013 Level\"].map({\"Level 1\":1,\"Level 2\":2, \"Level 3\":3, \"Not Enough Data\":4})\n",
    "\n",
    "#changing probation status data type to numeric\n",
    "perf_high[\"2012-2013 Level\"] = pd.to_numeric(perf_high[\"2012-2013 Level\"])"
   ]
  },
  {
   "cell_type": "markdown",
   "metadata": {},
   "source": [
    "The above cell maps Probation Status to either 0,1,or 2. 0 is not on probation, 1 is probation, and 2 is Not enough data. \n",
    "This cell also converts the Probation status column's data type to numeric."
   ]
  },
  {
   "cell_type": "code",
   "execution_count": 180,
   "metadata": {},
   "outputs": [],
   "source": [
    "#remvoing elementary and highschool \"Not applicable\" Probation statuses\n",
    "perf_elem = perf_elem[perf_elem[\"2013-2014 Probation Status\"] !=2]\n",
    "perf_high = perf_high[perf_high[\"2013-2014 Probation\"] !=2]"
   ]
  },
  {
   "cell_type": "markdown",
   "metadata": {},
   "source": [
    "Here we have removed any schools that had \"Not enough data\" from our data. Both Highschool and Elementary data sets had some probation statuses of Not Enough Data and were removed from the analysis. This is also an area for improvement in our analysis. There were a lot of \"Not enough data\" assignments. Removing them decreases our sample and thus alters our results. "
   ]
  },
  {
   "cell_type": "code",
   "execution_count": 181,
   "metadata": {},
   "outputs": [],
   "source": [
    "#dropping school names and network from the elementary and highschool dataframes--these variables arent needed\n",
    "perf_elem = perf_elem.drop([\"Network\",\"School Name\"],axis= 1)\n",
    "perf_high = perf_high.drop([\"Network\",\"School Name\"],axis= 1)\n",
    "lepsped = lepsped.drop([\"Networks\",\"School_Name\"], axis = 1)\n",
    "racial_ethnic = racial_ethnic.drop([\"Network\", \"School_Name\"], axis= 1)"
   ]
  },
  {
   "cell_type": "markdown",
   "metadata": {},
   "source": [
    "The Network and School Name attributes were dropped from the data sets becuase they are thought to not hold any importance in determining Probation. "
   ]
  },
  {
   "cell_type": "code",
   "execution_count": 183,
   "metadata": {},
   "outputs": [],
   "source": [
    "#fixing last 2 rows- had extra data on import\n",
    "lepsped = lepsped.iloc[:-2,:]\n",
    "racial_ethnic = racial_ethnic.iloc[:-2,:]\n"
   ]
  },
  {
   "cell_type": "markdown",
   "metadata": {},
   "source": [
    "The last few rows of the Racial/Ethnic data set and the Special Education/Free or Reduced lunch/Bilingual were not empty but did not hold information relevant to the analysis so they were removed above."
   ]
  },
  {
   "cell_type": "code",
   "execution_count": 184,
   "metadata": {},
   "outputs": [],
   "source": [
    "#changing School id datatype in LEPSPED import to numeric\n",
    "lepsped[\"School_ID\"] = pd.to_numeric(lepsped[\"School_ID\"])"
   ]
  },
  {
   "cell_type": "markdown",
   "metadata": {},
   "source": [
    "Above changed the data type of the Special Education/Free or Reduced lunch/Bilingual School ID attribute to numeric."
   ]
  },
  {
   "cell_type": "code",
   "execution_count": 185,
   "metadata": {},
   "outputs": [],
   "source": [
    "#combining racial and demographic data\n",
    "dat = pd.merge(lepsped,racial_ethnic, how=\"outer\", on=\"School_ID\")"
   ]
  },
  {
   "cell_type": "markdown",
   "metadata": {},
   "source": [
    "Racial/Ethnic data set and the Special Education/Free or Reduced lunch/Bilingual are merged on School ID above."
   ]
  },
  {
   "cell_type": "code",
   "execution_count": 186,
   "metadata": {},
   "outputs": [],
   "source": [
    "#combining Racial/Demographic with Elementary & Highschool Performance\n",
    "elem_df = perf_elem.merge(dat,how=\"outer\", on = \"School_ID\")\n",
    "high_df = perf_high.merge(dat,how=\"outer\", on = \"School_ID\")"
   ]
  },
  {
   "cell_type": "markdown",
   "metadata": {},
   "source": [
    "Merging the Racial/Ethnic data set and the Special Education/Free or Reduced lunch/Bilingual merge to both the elementary and Highschool data."
   ]
  },
  {
   "cell_type": "code",
   "execution_count": 187,
   "metadata": {},
   "outputs": [],
   "source": [
    "# dropping NaN rows from both elem and higschool\n",
    "# This removes the highschool rows from the elementary dataframe that were created with the merging and vice versa \n",
    "elem_df.dropna(subset=[\"2013-2014 Probation Status\"],inplace=True)\n",
    "high_df.dropna(subset=[\"2013-2014 Probation\"], inplace= True)\n"
   ]
  },
  {
   "cell_type": "markdown",
   "metadata": {},
   "source": [
    "NaN values introduced by combining elementary and highschool performance are removed in the above step by dropping ony where NaN were found in the Probation status attributes. When merging, all Highschools would have NaN for Elementary data and vice versa."
   ]
  },
  {
   "cell_type": "code",
   "execution_count": 188,
   "metadata": {},
   "outputs": [],
   "source": [
    "#filling na with average\n",
    "elem_df = elem_df.fillna(elem_df.mean(),inplace= True)\n",
    "high_df = high_df.fillna(high_df.mean(),inplace = True)"
   ]
  },
  {
   "cell_type": "markdown",
   "metadata": {},
   "source": [
    "Any residual missing values were replaced with each columns average."
   ]
  },
  {
   "cell_type": "code",
   "execution_count": 189,
   "metadata": {},
   "outputs": [],
   "source": [
    "#setting x and y for both dataframes\n",
    "elem_x = elem_df[list(elem_df.columns[0:2])+list(elem_df.columns[3:])]\n",
    "elem_y = elem_df[\"2013-2014 Probation Status\"]\n",
    "\n",
    "high_x = high_df[list(high_df.columns[0:2])+list(high_df.columns[3:])]\n",
    "high_y = high_df[\"2013-2014 Probation\"]"
   ]
  },
  {
   "cell_type": "markdown",
   "metadata": {},
   "source": [
    "The cell above designates Probation Status as our Target(Y) variable and everything else as our X variables. This splitting was done for both Elementary and Highshcool data."
   ]
  },
  {
   "cell_type": "code",
   "execution_count": 190,
   "metadata": {},
   "outputs": [
    {
     "data": {
      "text/plain": [
       "<matplotlib.text.Text at 0x1510f6cae80>"
      ]
     },
     "execution_count": 190,
     "metadata": {},
     "output_type": "execute_result"
    },
    {
     "data": {
      "image/png": "[encoded data removed]",
      "text/plain": [
       "<matplotlib.figure.Figure at 0x1510dacbeb8>"
      ]
     },
     "metadata": {},
     "output_type": "display_data"
    }
   ],
   "source": [
    "#Probation vs not Elemenatry\n",
    "elem_y.hist()\n",
    "plt.title(\"2013-2014 Probation Status- Elementary\")"
   ]
  },
  {
   "cell_type": "markdown",
   "metadata": {},
   "source": [
    "Histogram of Elementary Probation Status"
   ]
  },
  {
   "cell_type": "code",
   "execution_count": 191,
   "metadata": {},
   "outputs": [
    {
     "data": {
      "text/plain": [
       "<matplotlib.text.Text at 0x1510e15f6a0>"
      ]
     },
     "execution_count": 191,
     "metadata": {},
     "output_type": "execute_result"
    },
    {
     "data": {
      "image/png": "[encoded data removed]",
      "text/plain": [
       "<matplotlib.figure.Figure at 0x1510f6a5d30>"
      ]
     },
     "metadata": {},
     "output_type": "display_data"
    }
   ],
   "source": [
    "#Probation vs not High School\n",
    "high_y.hist()\n",
    "plt.title(\"2013-2014 Probation Status- Highschool\")"
   ]
  },
  {
   "cell_type": "markdown",
   "metadata": {},
   "source": [
    "Histogram of Highcshool Probation Status"
   ]
  },
  {
   "cell_type": "markdown",
   "metadata": {},
   "source": [
    "As displayed in the histograms above, there is a pretty even ratio of probation to non- probation schools in both the elementary and Highschool spaces, highschool is roughly 5:4 and elementary is roughly 5:3."
   ]
  },
  {
   "cell_type": "code",
   "execution_count": 192,
   "metadata": {},
   "outputs": [
    {
     "name": "stdout",
     "output_type": "stream",
     "text": [
      "Elementary Descriptive Statistics\n"
     ]
    },
    {
     "data": {
      "text/html": [
       "<div>\n",
       "<style>\n",
       "    .dataframe thead tr:only-child th {\n",
       "        text-align: right;\n",
       "    }\n",
       "\n",
       "    .dataframe thead th {\n",
       "        text-align: left;\n",
       "    }\n",
       "\n",
       "    .dataframe tbody tr th {\n",
       "        vertical-align: top;\n",
       "    }\n",
       "</style>\n",
       "<table border=\"1\" class=\"dataframe\">\n",
       "  <thead>\n",
       "    <tr style=\"text-align: right;\">\n",
       "      <th></th>\n",
       "      <th>School_ID</th>\n",
       "      <th>Unit</th>\n",
       "      <th>2013-2014 Probation Status</th>\n",
       "      <th>2012-2013 Level</th>\n",
       "      <th>Total Percent of Possible Points</th>\n",
       "      <th>Total Points Received</th>\n",
       "      <th>Total Points Possible</th>\n",
       "      <th>2013 ISAT Composite Meets/ Exceeds Percent</th>\n",
       "      <th>2013</th>\n",
       "      <th>2012</th>\n",
       "      <th>...</th>\n",
       "      <th>Hispanic_No</th>\n",
       "      <th>Hispanic_Percent</th>\n",
       "      <th>Multi_Racial_No</th>\n",
       "      <th>Multi_Racial_Percent</th>\n",
       "      <th>Asian_No</th>\n",
       "      <th>Asian_Percent</th>\n",
       "      <th>Hawaiian_Pacific_Islander_No</th>\n",
       "      <th>Hawaiian_Pacific_Islander_Percent</th>\n",
       "      <th>Not_Available_No</th>\n",
       "      <th>Not_Available_Percent</th>\n",
       "    </tr>\n",
       "  </thead>\n",
       "  <tbody>\n",
       "    <tr>\n",
       "      <th>count</th>\n",
       "      <td>420.000000</td>\n",
       "      <td>420.000000</td>\n",
       "      <td>420.000000</td>\n",
       "      <td>420.000000</td>\n",
       "      <td>420.000000</td>\n",
       "      <td>420.000000</td>\n",
       "      <td>420.000000</td>\n",
       "      <td>420.000000</td>\n",
       "      <td>420.000000</td>\n",
       "      <td>420.000000</td>\n",
       "      <td>...</td>\n",
       "      <td>420.000000</td>\n",
       "      <td>420.000000</td>\n",
       "      <td>420.000000</td>\n",
       "      <td>420.000000</td>\n",
       "      <td>420.000000</td>\n",
       "      <td>420.000000</td>\n",
       "      <td>420.000000</td>\n",
       "      <td>420.000000</td>\n",
       "      <td>420.000000</td>\n",
       "      <td>420.000000</td>\n",
       "    </tr>\n",
       "    <tr>\n",
       "      <th>mean</th>\n",
       "      <td>608566.242857</td>\n",
       "      <td>4759.071429</td>\n",
       "      <td>0.378571</td>\n",
       "      <td>1.978571</td>\n",
       "      <td>59.951905</td>\n",
       "      <td>24.942857</td>\n",
       "      <td>41.671429</td>\n",
       "      <td>54.709524</td>\n",
       "      <td>50.563810</td>\n",
       "      <td>49.379475</td>\n",
       "      <td>...</td>\n",
       "      <td>285.811905</td>\n",
       "      <td>37.463333</td>\n",
       "      <td>6.602381</td>\n",
       "      <td>1.109048</td>\n",
       "      <td>21.630952</td>\n",
       "      <td>3.033095</td>\n",
       "      <td>0.985714</td>\n",
       "      <td>0.142143</td>\n",
       "      <td>4.328571</td>\n",
       "      <td>0.810952</td>\n",
       "    </tr>\n",
       "    <tr>\n",
       "      <th>std</th>\n",
       "      <td>17708.136854</td>\n",
       "      <td>1739.379890</td>\n",
       "      <td>0.485609</td>\n",
       "      <td>0.815727</td>\n",
       "      <td>21.129448</td>\n",
       "      <td>8.770289</td>\n",
       "      <td>1.882375</td>\n",
       "      <td>17.226133</td>\n",
       "      <td>17.748845</td>\n",
       "      <td>18.133644</td>\n",
       "      <td>...</td>\n",
       "      <td>361.441922</td>\n",
       "      <td>37.736523</td>\n",
       "      <td>10.772168</td>\n",
       "      <td>1.657676</td>\n",
       "      <td>68.113022</td>\n",
       "      <td>8.229093</td>\n",
       "      <td>3.740992</td>\n",
       "      <td>0.413507</td>\n",
       "      <td>10.969328</td>\n",
       "      <td>2.078581</td>\n",
       "    </tr>\n",
       "    <tr>\n",
       "      <th>min</th>\n",
       "      <td>400040.000000</td>\n",
       "      <td>2015.000000</td>\n",
       "      <td>0.000000</td>\n",
       "      <td>1.000000</td>\n",
       "      <td>7.100000</td>\n",
       "      <td>3.000000</td>\n",
       "      <td>24.000000</td>\n",
       "      <td>16.300000</td>\n",
       "      <td>9.900000</td>\n",
       "      <td>9.400000</td>\n",
       "      <td>...</td>\n",
       "      <td>0.000000</td>\n",
       "      <td>0.000000</td>\n",
       "      <td>0.000000</td>\n",
       "      <td>0.000000</td>\n",
       "      <td>0.000000</td>\n",
       "      <td>0.000000</td>\n",
       "      <td>0.000000</td>\n",
       "      <td>0.000000</td>\n",
       "      <td>0.000000</td>\n",
       "      <td>0.000000</td>\n",
       "    </tr>\n",
       "    <tr>\n",
       "      <th>25%</th>\n",
       "      <td>609909.750000</td>\n",
       "      <td>3267.500000</td>\n",
       "      <td>0.000000</td>\n",
       "      <td>1.000000</td>\n",
       "      <td>45.200000</td>\n",
       "      <td>19.000000</td>\n",
       "      <td>42.000000</td>\n",
       "      <td>42.275000</td>\n",
       "      <td>37.350000</td>\n",
       "      <td>35.500000</td>\n",
       "      <td>...</td>\n",
       "      <td>6.000000</td>\n",
       "      <td>1.600000</td>\n",
       "      <td>1.000000</td>\n",
       "      <td>0.100000</td>\n",
       "      <td>0.000000</td>\n",
       "      <td>0.000000</td>\n",
       "      <td>0.000000</td>\n",
       "      <td>0.000000</td>\n",
       "      <td>0.000000</td>\n",
       "      <td>0.000000</td>\n",
       "    </tr>\n",
       "    <tr>\n",
       "      <th>50%</th>\n",
       "      <td>610054.500000</td>\n",
       "      <td>4635.000000</td>\n",
       "      <td>0.000000</td>\n",
       "      <td>2.000000</td>\n",
       "      <td>59.500000</td>\n",
       "      <td>25.000000</td>\n",
       "      <td>42.000000</td>\n",
       "      <td>53.600000</td>\n",
       "      <td>48.600000</td>\n",
       "      <td>47.750000</td>\n",
       "      <td>...</td>\n",
       "      <td>118.500000</td>\n",
       "      <td>23.050000</td>\n",
       "      <td>2.000000</td>\n",
       "      <td>0.400000</td>\n",
       "      <td>1.000000</td>\n",
       "      <td>0.100000</td>\n",
       "      <td>0.000000</td>\n",
       "      <td>0.000000</td>\n",
       "      <td>1.000000</td>\n",
       "      <td>0.100000</td>\n",
       "    </tr>\n",
       "    <tr>\n",
       "      <th>75%</th>\n",
       "      <td>610195.250000</td>\n",
       "      <td>6112.500000</td>\n",
       "      <td>1.000000</td>\n",
       "      <td>3.000000</td>\n",
       "      <td>76.800000</td>\n",
       "      <td>32.000000</td>\n",
       "      <td>42.000000</td>\n",
       "      <td>66.125000</td>\n",
       "      <td>61.925000</td>\n",
       "      <td>60.250000</td>\n",
       "      <td>...</td>\n",
       "      <td>465.000000</td>\n",
       "      <td>79.950000</td>\n",
       "      <td>7.250000</td>\n",
       "      <td>1.300000</td>\n",
       "      <td>10.250000</td>\n",
       "      <td>1.925000</td>\n",
       "      <td>1.000000</td>\n",
       "      <td>0.200000</td>\n",
       "      <td>3.250000</td>\n",
       "      <td>0.600000</td>\n",
       "    </tr>\n",
       "    <tr>\n",
       "      <th>max</th>\n",
       "      <td>610559.000000</td>\n",
       "      <td>9597.000000</td>\n",
       "      <td>1.000000</td>\n",
       "      <td>4.000000</td>\n",
       "      <td>100.000000</td>\n",
       "      <td>42.000000</td>\n",
       "      <td>42.000000</td>\n",
       "      <td>99.800000</td>\n",
       "      <td>100.000000</td>\n",
       "      <td>100.000000</td>\n",
       "      <td>...</td>\n",
       "      <td>1847.000000</td>\n",
       "      <td>99.200000</td>\n",
       "      <td>76.000000</td>\n",
       "      <td>10.000000</td>\n",
       "      <td>810.000000</td>\n",
       "      <td>85.800000</td>\n",
       "      <td>57.000000</td>\n",
       "      <td>5.900000</td>\n",
       "      <td>96.000000</td>\n",
       "      <td>20.700000</td>\n",
       "    </tr>\n",
       "  </tbody>\n",
       "</table>\n",
       "<p>8 rows × 101 columns</p>\n",
       "</div>"
      ],
      "text/plain": [
       "           School_ID         Unit  2013-2014 Probation Status  \\\n",
       "count     420.000000   420.000000                  420.000000   \n",
       "mean   608566.242857  4759.071429                    0.378571   \n",
       "std     17708.136854  1739.379890                    0.485609   \n",
       "min    400040.000000  2015.000000                    0.000000   \n",
       "25%    609909.750000  3267.500000                    0.000000   \n",
       "50%    610054.500000  4635.000000                    0.000000   \n",
       "75%    610195.250000  6112.500000                    1.000000   \n",
       "max    610559.000000  9597.000000                    1.000000   \n",
       "\n",
       "       2012-2013 Level  Total Percent of Possible Points  \\\n",
       "count       420.000000                        420.000000   \n",
       "mean          1.978571                         59.951905   \n",
       "std           0.815727                         21.129448   \n",
       "min           1.000000                          7.100000   \n",
       "25%           1.000000                         45.200000   \n",
       "50%           2.000000                         59.500000   \n",
       "75%           3.000000                         76.800000   \n",
       "max           4.000000                        100.000000   \n",
       "\n",
       "       Total Points Received  Total Points Possible  \\\n",
       "count             420.000000             420.000000   \n",
       "mean               24.942857              41.671429   \n",
       "std                 8.770289               1.882375   \n",
       "min                 3.000000              24.000000   \n",
       "25%                19.000000              42.000000   \n",
       "50%                25.000000              42.000000   \n",
       "75%                32.000000              42.000000   \n",
       "max                42.000000              42.000000   \n",
       "\n",
       "       2013 ISAT Composite Meets/ Exceeds Percent        2013        2012  \\\n",
       "count                                  420.000000  420.000000  420.000000   \n",
       "mean                                    54.709524   50.563810   49.379475   \n",
       "std                                     17.226133   17.748845   18.133644   \n",
       "min                                     16.300000    9.900000    9.400000   \n",
       "25%                                     42.275000   37.350000   35.500000   \n",
       "50%                                     53.600000   48.600000   47.750000   \n",
       "75%                                     66.125000   61.925000   60.250000   \n",
       "max                                     99.800000  100.000000  100.000000   \n",
       "\n",
       "               ...            Hispanic_No  Hispanic_Percent  Multi_Racial_No  \\\n",
       "count          ...             420.000000        420.000000       420.000000   \n",
       "mean           ...             285.811905         37.463333         6.602381   \n",
       "std            ...             361.441922         37.736523        10.772168   \n",
       "min            ...               0.000000          0.000000         0.000000   \n",
       "25%            ...               6.000000          1.600000         1.000000   \n",
       "50%            ...             118.500000         23.050000         2.000000   \n",
       "75%            ...             465.000000         79.950000         7.250000   \n",
       "max            ...            1847.000000         99.200000        76.000000   \n",
       "\n",
       "       Multi_Racial_Percent    Asian_No  Asian_Percent  \\\n",
       "count            420.000000  420.000000     420.000000   \n",
       "mean               1.109048   21.630952       3.033095   \n",
       "std                1.657676   68.113022       8.229093   \n",
       "min                0.000000    0.000000       0.000000   \n",
       "25%                0.100000    0.000000       0.000000   \n",
       "50%                0.400000    1.000000       0.100000   \n",
       "75%                1.300000   10.250000       1.925000   \n",
       "max               10.000000  810.000000      85.800000   \n",
       "\n",
       "       Hawaiian_Pacific_Islander_No  Hawaiian_Pacific_Islander_Percent  \\\n",
       "count                    420.000000                         420.000000   \n",
       "mean                       0.985714                           0.142143   \n",
       "std                        3.740992                           0.413507   \n",
       "min                        0.000000                           0.000000   \n",
       "25%                        0.000000                           0.000000   \n",
       "50%                        0.000000                           0.000000   \n",
       "75%                        1.000000                           0.200000   \n",
       "max                       57.000000                           5.900000   \n",
       "\n",
       "       Not_Available_No  Not_Available_Percent  \n",
       "count        420.000000             420.000000  \n",
       "mean           4.328571               0.810952  \n",
       "std           10.969328               2.078581  \n",
       "min            0.000000               0.000000  \n",
       "25%            0.000000               0.000000  \n",
       "50%            1.000000               0.100000  \n",
       "75%            3.250000               0.600000  \n",
       "max           96.000000              20.700000  \n",
       "\n",
       "[8 rows x 101 columns]"
      ]
     },
     "execution_count": 192,
     "metadata": {},
     "output_type": "execute_result"
    }
   ],
   "source": [
    "#elementary descriptive statistics\n",
    "print(\"Elementary Descriptive Statistics\")\n",
    "elem_df.describe()"
   ]
  },
  {
   "cell_type": "markdown",
   "metadata": {},
   "source": [
    "Descriptive Statistics for Elementary School"
   ]
  },
  {
   "cell_type": "code",
   "execution_count": 193,
   "metadata": {},
   "outputs": [
    {
     "name": "stdout",
     "output_type": "stream",
     "text": [
      "Highschool Descriptive Statistics\n"
     ]
    },
    {
     "data": {
      "text/html": [
       "<div>\n",
       "<style>\n",
       "    .dataframe thead tr:only-child th {\n",
       "        text-align: right;\n",
       "    }\n",
       "\n",
       "    .dataframe thead th {\n",
       "        text-align: left;\n",
       "    }\n",
       "\n",
       "    .dataframe tbody tr th {\n",
       "        vertical-align: top;\n",
       "    }\n",
       "</style>\n",
       "<table border=\"1\" class=\"dataframe\">\n",
       "  <thead>\n",
       "    <tr style=\"text-align: right;\">\n",
       "      <th></th>\n",
       "      <th>School_ID</th>\n",
       "      <th>Unit</th>\n",
       "      <th>2013-2014 Probation</th>\n",
       "      <th>2012-2013 Level</th>\n",
       "      <th>Total Percent of Possible Points</th>\n",
       "      <th>Total Points Received</th>\n",
       "      <th>Total Points Possible</th>\n",
       "      <th>2013 PSAE Composite Meets/ Exceeds Percent</th>\n",
       "      <th>2013</th>\n",
       "      <th>2012</th>\n",
       "      <th>...</th>\n",
       "      <th>Hispanic_No</th>\n",
       "      <th>Hispanic_Percent</th>\n",
       "      <th>Multi_Racial_No</th>\n",
       "      <th>Multi_Racial_Percent</th>\n",
       "      <th>Asian_No</th>\n",
       "      <th>Asian_Percent</th>\n",
       "      <th>Hawaiian_Pacific_Islander_No</th>\n",
       "      <th>Hawaiian_Pacific_Islander_Percent</th>\n",
       "      <th>Not_Available_No</th>\n",
       "      <th>Not_Available_Percent</th>\n",
       "    </tr>\n",
       "  </thead>\n",
       "  <tbody>\n",
       "    <tr>\n",
       "      <th>count</th>\n",
       "      <td>94.000000</td>\n",
       "      <td>94.000000</td>\n",
       "      <td>94.000000</td>\n",
       "      <td>94.000000</td>\n",
       "      <td>94.000000</td>\n",
       "      <td>94.000000</td>\n",
       "      <td>94.000000</td>\n",
       "      <td>94.000000</td>\n",
       "      <td>94.000000</td>\n",
       "      <td>94.000000</td>\n",
       "      <td>...</td>\n",
       "      <td>94.000000</td>\n",
       "      <td>94.000000</td>\n",
       "      <td>94.000000</td>\n",
       "      <td>94.000000</td>\n",
       "      <td>94.000000</td>\n",
       "      <td>94.000000</td>\n",
       "      <td>94.000000</td>\n",
       "      <td>94.000000</td>\n",
       "      <td>94.000000</td>\n",
       "      <td>94.000000</td>\n",
       "    </tr>\n",
       "    <tr>\n",
       "      <th>mean</th>\n",
       "      <td>598791.585106</td>\n",
       "      <td>3221.244681</td>\n",
       "      <td>0.446809</td>\n",
       "      <td>2.212766</td>\n",
       "      <td>51.429787</td>\n",
       "      <td>20.386521</td>\n",
       "      <td>39.542553</td>\n",
       "      <td>27.038043</td>\n",
       "      <td>17.019565</td>\n",
       "      <td>17.116667</td>\n",
       "      <td>...</td>\n",
       "      <td>408.585106</td>\n",
       "      <td>35.862766</td>\n",
       "      <td>11.404255</td>\n",
       "      <td>1.040426</td>\n",
       "      <td>41.063830</td>\n",
       "      <td>2.656383</td>\n",
       "      <td>0.893617</td>\n",
       "      <td>0.077660</td>\n",
       "      <td>4.563830</td>\n",
       "      <td>0.394681</td>\n",
       "    </tr>\n",
       "    <tr>\n",
       "      <th>std</th>\n",
       "      <td>47356.826549</td>\n",
       "      <td>2842.559364</td>\n",
       "      <td>0.499828</td>\n",
       "      <td>0.774213</td>\n",
       "      <td>20.446257</td>\n",
       "      <td>8.366674</td>\n",
       "      <td>6.435227</td>\n",
       "      <td>24.693732</td>\n",
       "      <td>3.342500</td>\n",
       "      <td>3.107440</td>\n",
       "      <td>...</td>\n",
       "      <td>556.676571</td>\n",
       "      <td>33.518234</td>\n",
       "      <td>19.525731</td>\n",
       "      <td>1.263492</td>\n",
       "      <td>91.537266</td>\n",
       "      <td>4.992350</td>\n",
       "      <td>1.562106</td>\n",
       "      <td>0.124567</td>\n",
       "      <td>10.904826</td>\n",
       "      <td>0.751682</td>\n",
       "    </tr>\n",
       "    <tr>\n",
       "      <th>min</th>\n",
       "      <td>400018.000000</td>\n",
       "      <td>1010.000000</td>\n",
       "      <td>0.000000</td>\n",
       "      <td>1.000000</td>\n",
       "      <td>0.000000</td>\n",
       "      <td>0.000000</td>\n",
       "      <td>9.000000</td>\n",
       "      <td>0.400000</td>\n",
       "      <td>12.900000</td>\n",
       "      <td>12.500000</td>\n",
       "      <td>...</td>\n",
       "      <td>0.000000</td>\n",
       "      <td>0.000000</td>\n",
       "      <td>0.000000</td>\n",
       "      <td>0.000000</td>\n",
       "      <td>0.000000</td>\n",
       "      <td>0.000000</td>\n",
       "      <td>0.000000</td>\n",
       "      <td>0.000000</td>\n",
       "      <td>0.000000</td>\n",
       "      <td>0.000000</td>\n",
       "    </tr>\n",
       "    <tr>\n",
       "      <th>25%</th>\n",
       "      <td>609710.250000</td>\n",
       "      <td>1342.500000</td>\n",
       "      <td>0.000000</td>\n",
       "      <td>2.000000</td>\n",
       "      <td>39.100000</td>\n",
       "      <td>15.333000</td>\n",
       "      <td>42.000000</td>\n",
       "      <td>8.475000</td>\n",
       "      <td>14.700000</td>\n",
       "      <td>15.000000</td>\n",
       "      <td>...</td>\n",
       "      <td>11.000000</td>\n",
       "      <td>1.900000</td>\n",
       "      <td>2.000000</td>\n",
       "      <td>0.200000</td>\n",
       "      <td>0.000000</td>\n",
       "      <td>0.000000</td>\n",
       "      <td>0.000000</td>\n",
       "      <td>0.000000</td>\n",
       "      <td>0.000000</td>\n",
       "      <td>0.000000</td>\n",
       "    </tr>\n",
       "    <tr>\n",
       "      <th>50%</th>\n",
       "      <td>609737.500000</td>\n",
       "      <td>1605.000000</td>\n",
       "      <td>0.000000</td>\n",
       "      <td>2.000000</td>\n",
       "      <td>51.200000</td>\n",
       "      <td>21.000000</td>\n",
       "      <td>42.000000</td>\n",
       "      <td>20.700000</td>\n",
       "      <td>16.350000</td>\n",
       "      <td>16.550000</td>\n",
       "      <td>...</td>\n",
       "      <td>175.000000</td>\n",
       "      <td>27.950000</td>\n",
       "      <td>3.000000</td>\n",
       "      <td>0.500000</td>\n",
       "      <td>1.500000</td>\n",
       "      <td>0.200000</td>\n",
       "      <td>0.000000</td>\n",
       "      <td>0.000000</td>\n",
       "      <td>1.000000</td>\n",
       "      <td>0.100000</td>\n",
       "    </tr>\n",
       "    <tr>\n",
       "      <th>75%</th>\n",
       "      <td>610338.500000</td>\n",
       "      <td>6900.000000</td>\n",
       "      <td>1.000000</td>\n",
       "      <td>3.000000</td>\n",
       "      <td>61.825000</td>\n",
       "      <td>25.166500</td>\n",
       "      <td>42.000000</td>\n",
       "      <td>35.450000</td>\n",
       "      <td>18.100000</td>\n",
       "      <td>18.075000</td>\n",
       "      <td>...</td>\n",
       "      <td>625.750000</td>\n",
       "      <td>67.175000</td>\n",
       "      <td>9.000000</td>\n",
       "      <td>1.300000</td>\n",
       "      <td>20.250000</td>\n",
       "      <td>2.925000</td>\n",
       "      <td>1.000000</td>\n",
       "      <td>0.100000</td>\n",
       "      <td>3.000000</td>\n",
       "      <td>0.300000</td>\n",
       "    </tr>\n",
       "    <tr>\n",
       "      <th>max</th>\n",
       "      <td>610558.000000</td>\n",
       "      <td>9598.000000</td>\n",
       "      <td>1.000000</td>\n",
       "      <td>4.000000</td>\n",
       "      <td>100.000000</td>\n",
       "      <td>42.000000</td>\n",
       "      <td>42.000000</td>\n",
       "      <td>98.800000</td>\n",
       "      <td>29.400000</td>\n",
       "      <td>29.600000</td>\n",
       "      <td>...</td>\n",
       "      <td>2533.000000</td>\n",
       "      <td>97.100000</td>\n",
       "      <td>110.000000</td>\n",
       "      <td>5.800000</td>\n",
       "      <td>418.000000</td>\n",
       "      <td>24.100000</td>\n",
       "      <td>9.000000</td>\n",
       "      <td>0.700000</td>\n",
       "      <td>77.000000</td>\n",
       "      <td>4.500000</td>\n",
       "    </tr>\n",
       "  </tbody>\n",
       "</table>\n",
       "<p>8 rows × 124 columns</p>\n",
       "</div>"
      ],
      "text/plain": [
       "           School_ID         Unit  2013-2014 Probation  2012-2013 Level  \\\n",
       "count      94.000000    94.000000            94.000000        94.000000   \n",
       "mean   598791.585106  3221.244681             0.446809         2.212766   \n",
       "std     47356.826549  2842.559364             0.499828         0.774213   \n",
       "min    400018.000000  1010.000000             0.000000         1.000000   \n",
       "25%    609710.250000  1342.500000             0.000000         2.000000   \n",
       "50%    609737.500000  1605.000000             0.000000         2.000000   \n",
       "75%    610338.500000  6900.000000             1.000000         3.000000   \n",
       "max    610558.000000  9598.000000             1.000000         4.000000   \n",
       "\n",
       "       Total Percent of Possible Points  Total Points Received  \\\n",
       "count                         94.000000              94.000000   \n",
       "mean                          51.429787              20.386521   \n",
       "std                           20.446257               8.366674   \n",
       "min                            0.000000               0.000000   \n",
       "25%                           39.100000              15.333000   \n",
       "50%                           51.200000              21.000000   \n",
       "75%                           61.825000              25.166500   \n",
       "max                          100.000000              42.000000   \n",
       "\n",
       "       Total Points Possible  2013 PSAE Composite Meets/ Exceeds Percent  \\\n",
       "count              94.000000                                   94.000000   \n",
       "mean               39.542553                                   27.038043   \n",
       "std                 6.435227                                   24.693732   \n",
       "min                 9.000000                                    0.400000   \n",
       "25%                42.000000                                    8.475000   \n",
       "50%                42.000000                                   20.700000   \n",
       "75%                42.000000                                   35.450000   \n",
       "max                42.000000                                   98.800000   \n",
       "\n",
       "            2013       2012          ...            Hispanic_No  \\\n",
       "count  94.000000  94.000000          ...              94.000000   \n",
       "mean   17.019565  17.116667          ...             408.585106   \n",
       "std     3.342500   3.107440          ...             556.676571   \n",
       "min    12.900000  12.500000          ...               0.000000   \n",
       "25%    14.700000  15.000000          ...              11.000000   \n",
       "50%    16.350000  16.550000          ...             175.000000   \n",
       "75%    18.100000  18.075000          ...             625.750000   \n",
       "max    29.400000  29.600000          ...            2533.000000   \n",
       "\n",
       "       Hispanic_Percent  Multi_Racial_No  Multi_Racial_Percent    Asian_No  \\\n",
       "count         94.000000        94.000000             94.000000   94.000000   \n",
       "mean          35.862766        11.404255              1.040426   41.063830   \n",
       "std           33.518234        19.525731              1.263492   91.537266   \n",
       "min            0.000000         0.000000              0.000000    0.000000   \n",
       "25%            1.900000         2.000000              0.200000    0.000000   \n",
       "50%           27.950000         3.000000              0.500000    1.500000   \n",
       "75%           67.175000         9.000000              1.300000   20.250000   \n",
       "max           97.100000       110.000000              5.800000  418.000000   \n",
       "\n",
       "       Asian_Percent  Hawaiian_Pacific_Islander_No  \\\n",
       "count      94.000000                     94.000000   \n",
       "mean        2.656383                      0.893617   \n",
       "std         4.992350                      1.562106   \n",
       "min         0.000000                      0.000000   \n",
       "25%         0.000000                      0.000000   \n",
       "50%         0.200000                      0.000000   \n",
       "75%         2.925000                      1.000000   \n",
       "max        24.100000                      9.000000   \n",
       "\n",
       "       Hawaiian_Pacific_Islander_Percent  Not_Available_No  \\\n",
       "count                          94.000000         94.000000   \n",
       "mean                            0.077660          4.563830   \n",
       "std                             0.124567         10.904826   \n",
       "min                             0.000000          0.000000   \n",
       "25%                             0.000000          0.000000   \n",
       "50%                             0.000000          1.000000   \n",
       "75%                             0.100000          3.000000   \n",
       "max                             0.700000         77.000000   \n",
       "\n",
       "       Not_Available_Percent  \n",
       "count              94.000000  \n",
       "mean                0.394681  \n",
       "std                 0.751682  \n",
       "min                 0.000000  \n",
       "25%                 0.000000  \n",
       "50%                 0.100000  \n",
       "75%                 0.300000  \n",
       "max                 4.500000  \n",
       "\n",
       "[8 rows x 124 columns]"
      ]
     },
     "execution_count": 193,
     "metadata": {},
     "output_type": "execute_result"
    }
   ],
   "source": [
    "#highschool descriptive statistics\n",
    "print(\"Highschool Descriptive Statistics\")\n",
    "high_df.describe()"
   ]
  },
  {
   "cell_type": "markdown",
   "metadata": {},
   "source": [
    "Descriptive Statistics for Highschool"
   ]
  },
  {
   "cell_type": "code",
   "execution_count": 194,
   "metadata": {},
   "outputs": [],
   "source": [
    "#Model Definition\n",
    "elem_mod = RandomForestClassifier(n_estimators=100).fit(elem_x,elem_y)\n",
    "high_mod = RandomForestClassifier(n_estimators=100).fit(high_x,high_y)\n",
    "\n",
    "elem_log_mod = LogisticRegression().fit(elem_x, elem_y)\n",
    "high_log_mod = LogisticRegression().fit(high_x, high_y)\n"
   ]
  },
  {
   "cell_type": "markdown",
   "metadata": {},
   "source": [
    "Above both Random Forest and Logistic regression models are fit on both the highschool and elementary school data."
   ]
  },
  {
   "cell_type": "code",
   "execution_count": 195,
   "metadata": {},
   "outputs": [
    {
     "name": "stdout",
     "output_type": "stream",
     "text": [
      "Elementary Logistic Regression Cross-Validated Score\n"
     ]
    },
    {
     "data": {
      "text/plain": [
       "0.86658698646787136"
      ]
     },
     "execution_count": 195,
     "metadata": {},
     "output_type": "execute_result"
    }
   ],
   "source": [
    "print(\"Elementary Logistic Regression Cross-Validated Score\")\n",
    "cross_val_score(elem_log_mod,elem_x,elem_y,cv=10).mean()\n"
   ]
  },
  {
   "cell_type": "markdown",
   "metadata": {},
   "source": [
    "Cross validated Logistic regression score for the Elementary school data."
   ]
  },
  {
   "cell_type": "code",
   "execution_count": 196,
   "metadata": {},
   "outputs": [
    {
     "name": "stdout",
     "output_type": "stream",
     "text": [
      "High School Logistic Regression Cross-Validated Score\n"
     ]
    },
    {
     "data": {
      "text/plain": [
       "0.83030303030303032"
      ]
     },
     "execution_count": 196,
     "metadata": {},
     "output_type": "execute_result"
    }
   ],
   "source": [
    "print(\"High School Logistic Regression Cross-Validated Score\")\n",
    "cross_val_score(high_log_mod,high_x,high_y,cv=10).mean()"
   ]
  },
  {
   "cell_type": "markdown",
   "metadata": {},
   "source": [
    "Cross validated Logistic regression score for the Highschool data."
   ]
  },
  {
   "cell_type": "code",
   "execution_count": 197,
   "metadata": {},
   "outputs": [
    {
     "name": "stdout",
     "output_type": "stream",
     "text": [
      "Elementary Random Forest Cross-Validated Score\n"
     ]
    },
    {
     "data": {
      "text/plain": [
       "0.93337519920049705"
      ]
     },
     "execution_count": 197,
     "metadata": {},
     "output_type": "execute_result"
    }
   ],
   "source": [
    "elem_score = cross_val_score(elem_mod,elem_x,elem_y, cv=10).mean()\n",
    "print(\"Elementary Random Forest Cross-Validated Score\")\n",
    "elem_score"
   ]
  },
  {
   "cell_type": "markdown",
   "metadata": {},
   "source": [
    "Cross validated Random Forest score for the Elementary school data."
   ]
  },
  {
   "cell_type": "code",
   "execution_count": 198,
   "metadata": {},
   "outputs": [
    {
     "name": "stdout",
     "output_type": "stream",
     "text": [
      "Highschool Random Forest Cross-Validated Score\n"
     ]
    },
    {
     "data": {
      "text/plain": [
       "0.9242424242424242"
      ]
     },
     "execution_count": 198,
     "metadata": {},
     "output_type": "execute_result"
    }
   ],
   "source": [
    "high_score = cross_val_score(high_mod,high_x,high_y, cv= 10).mean()\n",
    "print(\"Highschool Random Forest Cross-Validated Score\")\n",
    "high_score"
   ]
  },
  {
   "cell_type": "markdown",
   "metadata": {},
   "source": [
    "Cross validated Random Forest score for the Highschool data."
   ]
  },
  {
   "cell_type": "code",
   "execution_count": 199,
   "metadata": {},
   "outputs": [
    {
     "name": "stdout",
     "output_type": "stream",
     "text": [
      "Elementary Feature Importance\n"
     ]
    },
    {
     "data": {
      "text/html": [
       "<div>\n",
       "<style>\n",
       "    .dataframe thead tr:only-child th {\n",
       "        text-align: right;\n",
       "    }\n",
       "\n",
       "    .dataframe thead th {\n",
       "        text-align: left;\n",
       "    }\n",
       "\n",
       "    .dataframe tbody tr th {\n",
       "        vertical-align: top;\n",
       "    }\n",
       "</style>\n",
       "<table border=\"1\" class=\"dataframe\">\n",
       "  <thead>\n",
       "    <tr style=\"text-align: right;\">\n",
       "      <th></th>\n",
       "      <th>importance</th>\n",
       "    </tr>\n",
       "  </thead>\n",
       "  <tbody>\n",
       "    <tr>\n",
       "      <th>Total Percent of Possible Points</th>\n",
       "      <td>0.138303</td>\n",
       "    </tr>\n",
       "    <tr>\n",
       "      <th>2012-2013 Level</th>\n",
       "      <td>0.108537</td>\n",
       "    </tr>\n",
       "    <tr>\n",
       "      <th>Total Points Received</th>\n",
       "      <td>0.103486</td>\n",
       "    </tr>\n",
       "    <tr>\n",
       "      <th>2013.3</th>\n",
       "      <td>0.076912</td>\n",
       "    </tr>\n",
       "    <tr>\n",
       "      <th>2013 ISAT Composite Meets/ Exceeds Percent</th>\n",
       "      <td>0.047349</td>\n",
       "    </tr>\n",
       "    <tr>\n",
       "      <th>Current Status.2</th>\n",
       "      <td>0.039620</td>\n",
       "    </tr>\n",
       "    <tr>\n",
       "      <th>2013.1</th>\n",
       "      <td>0.037361</td>\n",
       "    </tr>\n",
       "    <tr>\n",
       "      <th>2013</th>\n",
       "      <td>0.029227</td>\n",
       "    </tr>\n",
       "    <tr>\n",
       "      <th>2013.2</th>\n",
       "      <td>0.029152</td>\n",
       "    </tr>\n",
       "    <tr>\n",
       "      <th>Current Status.1</th>\n",
       "      <td>0.027118</td>\n",
       "    </tr>\n",
       "  </tbody>\n",
       "</table>\n",
       "</div>"
      ],
      "text/plain": [
       "                                            importance\n",
       "Total Percent of Possible Points              0.138303\n",
       "2012-2013 Level                               0.108537\n",
       "Total Points Received                         0.103486\n",
       "2013.3                                        0.076912\n",
       "2013 ISAT Composite Meets/ Exceeds Percent    0.047349\n",
       "Current Status.2                              0.039620\n",
       "2013.1                                        0.037361\n",
       "2013                                          0.029227\n",
       "2013.2                                        0.029152\n",
       "Current Status.1                              0.027118"
      ]
     },
     "execution_count": 199,
     "metadata": {},
     "output_type": "execute_result"
    }
   ],
   "source": [
    "elem_feature_importances = pd.DataFrame(elem_mod.feature_importances_,index = elem_x.columns,\n",
    "                                    columns=['importance']).sort_values('importance',ascending=False)\n",
    "print(\"Elementary Feature Importance\")\n",
    "elem_feature_importances.head(10)"
   ]
  },
  {
   "cell_type": "markdown",
   "metadata": {},
   "source": [
    "Feature Importance for Elementary School Random Forest"
   ]
  },
  {
   "cell_type": "code",
   "execution_count": 200,
   "metadata": {},
   "outputs": [
    {
     "name": "stdout",
     "output_type": "stream",
     "text": [
      "Highschool Feature Importance\n"
     ]
    },
    {
     "data": {
      "text/html": [
       "<div>\n",
       "<style>\n",
       "    .dataframe thead tr:only-child th {\n",
       "        text-align: right;\n",
       "    }\n",
       "\n",
       "    .dataframe thead th {\n",
       "        text-align: left;\n",
       "    }\n",
       "\n",
       "    .dataframe tbody tr th {\n",
       "        vertical-align: top;\n",
       "    }\n",
       "</style>\n",
       "<table border=\"1\" class=\"dataframe\">\n",
       "  <thead>\n",
       "    <tr style=\"text-align: right;\">\n",
       "      <th></th>\n",
       "      <th>importance</th>\n",
       "    </tr>\n",
       "  </thead>\n",
       "  <tbody>\n",
       "    <tr>\n",
       "      <th>2012.6</th>\n",
       "      <td>0.090491</td>\n",
       "    </tr>\n",
       "    <tr>\n",
       "      <th>2013 PSAE Composite Meets/ Exceeds Percent</th>\n",
       "      <td>0.065999</td>\n",
       "    </tr>\n",
       "    <tr>\n",
       "      <th>2012</th>\n",
       "      <td>0.064335</td>\n",
       "    </tr>\n",
       "    <tr>\n",
       "      <th>2011.6</th>\n",
       "      <td>0.054934</td>\n",
       "    </tr>\n",
       "    <tr>\n",
       "      <th>2012.5</th>\n",
       "      <td>0.054619</td>\n",
       "    </tr>\n",
       "    <tr>\n",
       "      <th>Current Status.5</th>\n",
       "      <td>0.051569</td>\n",
       "    </tr>\n",
       "    <tr>\n",
       "      <th>2013.6</th>\n",
       "      <td>0.043235</td>\n",
       "    </tr>\n",
       "    <tr>\n",
       "      <th>2013</th>\n",
       "      <td>0.038633</td>\n",
       "    </tr>\n",
       "    <tr>\n",
       "      <th>Current Status.6</th>\n",
       "      <td>0.037393</td>\n",
       "    </tr>\n",
       "    <tr>\n",
       "      <th>Current Status</th>\n",
       "      <td>0.035071</td>\n",
       "    </tr>\n",
       "  </tbody>\n",
       "</table>\n",
       "</div>"
      ],
      "text/plain": [
       "                                            importance\n",
       "2012.6                                        0.090491\n",
       "2013 PSAE Composite Meets/ Exceeds Percent    0.065999\n",
       "2012                                          0.064335\n",
       "2011.6                                        0.054934\n",
       "2012.5                                        0.054619\n",
       "Current Status.5                              0.051569\n",
       "2013.6                                        0.043235\n",
       "2013                                          0.038633\n",
       "Current Status.6                              0.037393\n",
       "Current Status                                0.035071"
      ]
     },
     "execution_count": 200,
     "metadata": {},
     "output_type": "execute_result"
    }
   ],
   "source": [
    "high_feature_importances = pd.DataFrame(high_mod.feature_importances_,index = high_x.columns,\n",
    "                                    columns=['importance']).sort_values('importance',ascending=False)\n",
    "print(\"Highschool Feature Importance\")\n",
    "high_feature_importances.head(10)"
   ]
  },
  {
   "cell_type": "markdown",
   "metadata": {},
   "source": [
    "Feature Importance for Highschool Random Forest"
   ]
  },
  {
   "cell_type": "markdown",
   "metadata": {},
   "source": [
    "Both elementary and highschool Classifiers were accurate in predicting Probation status, with the elementary scoring slightly higher than the highschool model when cross validated (See Results Above)\n",
    "When looking at feature importances of the elementary model, fearutes such as\"Total Points Recieved\" and \"Total Percent of Possible Points\" were some of the most important. This seems logical and one woluld expect that overall points would be one of the most important metrics. However, while examining the important features of the highschool model, the feature 2012.6, which corresponds to the \"PSAE Math\" for the year 2012. Scoring better in math (or any other subject) intuitively makes sense as an important factor for a school's probation status. However, Math score showing up as an important feature in determining if a school is going to be on probation or not provides valuable insight. Future investigation into what improves Math scores in could very well lead to improvements in CPS Highschool probation status rates."
   ]
  },
  {
   "cell_type": "code",
   "execution_count": null,
   "metadata": {},
   "outputs": [],
   "source": []
  }
 ],
 "metadata": {
  "kernelspec": {
   "display_name": "Python 3",
   "language": "python",
   "name": "python3"
  },
  "language_info": {
   "codemirror_mode": {
    "name": "ipython",
    "version": 3
   },
   "file_extension": ".py",
   "mimetype": "text/x-python",
   "name": "python",
   "nbconvert_exporter": "python",
   "pygments_lexer": "ipython3",
   "version": "3.6.1"
  }
 },
 "nbformat": 4,
 "nbformat_minor": 2
}
